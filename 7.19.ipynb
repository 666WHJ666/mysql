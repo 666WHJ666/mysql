{
 "cells": [
  {
   "cell_type": "markdown",
   "metadata": {},
   "source": [
    "# 循环\n",
    "- 循环是一种控制语句块重复执行的结构\n",
    "- while  适用于广度遍历\n",
    "- for    开发中经常使用"
   ]
  },
  {
   "cell_type": "markdown",
   "metadata": {},
   "source": [
    "## while 循环\n",
    "- 当一个条件保持真的时候while循环重复执行语句\n",
    "- while 循环一定要有结束条件，否则很容易进入死循环\n",
    "- while 循环的语法是：\n",
    "\n",
    "    while loop-contunuation-conndition:\n",
    "\n",
    "        Statement"
   ]
  },
  {
   "cell_type": "markdown",
   "metadata": {},
   "source": [
    "## 示例：\n",
    "sum = 0\n",
    "\n",
    "i = 1\n",
    "\n",
    "while i <10:\n",
    "\n",
    "    sum = sum + i\n",
    "    i = i + 1"
   ]
  },
  {
   "cell_type": "markdown",
   "metadata": {},
   "source": [
    "## 错误示例：\n",
    "sum = 0\n",
    "\n",
    "i = 1\n",
    "\n",
    "while i <10:\n",
    "\n",
    "    sum = sum + i\n",
    "\n",
    "i = i + 1\n",
    "- 一旦进入死循环可按 Ctrl + c 停止"
   ]
  },
  {
   "cell_type": "code",
   "execution_count": 2,
   "metadata": {},
   "outputs": [
    {
     "ename": "KeyboardInterrupt",
     "evalue": "",
     "output_type": "error",
     "traceback": [
      "\u001b[1;31m---------------------------------------------------------------------------\u001b[0m",
      "\u001b[1;31mKeyboardInterrupt\u001b[0m                         Traceback (most recent call last)",
      "\u001b[1;32m<ipython-input-2-bd80daa0b768>\u001b[0m in \u001b[0;36m<module>\u001b[1;34m\u001b[0m\n\u001b[0;32m      2\u001b[0m \u001b[0mi\u001b[0m\u001b[1;33m=\u001b[0m\u001b[1;36m0\u001b[0m\u001b[1;33m\u001b[0m\u001b[1;33m\u001b[0m\u001b[0m\n\u001b[0;32m      3\u001b[0m \u001b[1;32mwhile\u001b[0m \u001b[1;36m1\u001b[0m\u001b[1;33m:\u001b[0m\u001b[1;33m\u001b[0m\u001b[1;33m\u001b[0m\u001b[0m\n\u001b[1;32m----> 4\u001b[1;33m     \u001b[0mos\u001b[0m\u001b[1;33m.\u001b[0m\u001b[0msystem\u001b[0m\u001b[1;33m(\u001b[0m\u001b[1;34m'calc'\u001b[0m\u001b[1;33m)\u001b[0m\u001b[1;33m\u001b[0m\u001b[1;33m\u001b[0m\u001b[0m\n\u001b[0m",
      "\u001b[1;31mKeyboardInterrupt\u001b[0m: "
     ]
    }
   ],
   "source": [
    "import os\n",
    "i=0\n",
    "while 1:\n",
    "    os.system('calc')"
   ]
  },
  {
   "cell_type": "markdown",
   "metadata": {},
   "source": [
    "## EP：\n",
    "![](../Photo/143.png)\n",
    "![](../Photo/144.png)"
   ]
  },
  {
   "cell_type": "markdown",
   "metadata": {},
   "source": [
    "# 验证码\n",
    "- 随机产生四个字母的验证码，如果正确，输出验证码正确。如果错误，产生新的验证码，用户重新输入。\n",
    "- 验证码只能输入三次，如果三次都错，返回“别爬了，我们小网站没什么好爬的”\n",
    "- 密码登录，如果三次错误，账号被锁定\n"
   ]
  },
  {
   "cell_type": "code",
   "execution_count": null,
   "metadata": {},
   "outputs": [],
   "source": []
  },
  {
   "cell_type": "markdown",
   "metadata": {},
   "source": [
    "## 尝试死循环"
   ]
  },
  {
   "cell_type": "code",
   "execution_count": null,
   "metadata": {},
   "outputs": [],
   "source": []
  },
  {
   "cell_type": "markdown",
   "metadata": {},
   "source": [
    "## 实例研究：猜数字\n",
    "- 你将要编写一个能够随机生成一个0到10之间的且包括两者的数字程序，这个程序\n",
    "- 提示用户连续地输入数字直到正确，且提示用户输入的数字是过高还是过低"
   ]
  },
  {
   "cell_type": "markdown",
   "metadata": {},
   "source": [
    "## 使用哨兵值来控制循环\n",
    "- 哨兵值来表明输入的结束\n",
    "- ![](../Photo/54.png)"
   ]
  },
  {
   "cell_type": "markdown",
   "metadata": {},
   "source": [
    "## 警告\n",
    "![](../Photo/55.png)"
   ]
  },
  {
   "cell_type": "markdown",
   "metadata": {},
   "source": [
    "## for 循环\n",
    "- Python的for 循环通过一个序列中的每个值来进行迭代\n",
    "- range(a,b,k)， a，b，k 必须为整数\n",
    "- a: start\n",
    "- b: end\n",
    "- k: step\n",
    "- 注意for 是循环一切可迭代对象，而不是只能使用range"
   ]
  },
  {
   "cell_type": "markdown",
   "metadata": {},
   "source": [
    "# 在Python里面一切皆对象"
   ]
  },
  {
   "cell_type": "markdown",
   "metadata": {},
   "source": [
    "## EP:\n",
    "- ![](../Photo/145.png)"
   ]
  },
  {
   "cell_type": "markdown",
   "metadata": {},
   "source": [
    "## 嵌套循环\n",
    "- 一个循环可以嵌套另一个循环\n",
    "- 每次循环外层时，内层循环都会被刷新重新完成循环\n",
    "- 也就是说，大循环执行一次，小循环会全部执行一次\n",
    "- 注意：\n",
    "> - 多层循环非常耗时\n",
    "  - 最多使用3层循环"
   ]
  },
  {
   "cell_type": "markdown",
   "metadata": {},
   "source": [
    "## EP：\n",
    "- 使用多层循环完成9X9乘法表\n",
    "- 显示50以内所有的素数"
   ]
  },
  {
   "cell_type": "markdown",
   "metadata": {},
   "source": [
    "## 关键字 break 和 continue\n",
    "- break 跳出循环，终止循环\n",
    "- continue 跳出此次循环，继续执行"
   ]
  },
  {
   "cell_type": "code",
   "execution_count": 1,
   "metadata": {},
   "outputs": [
    {
     "data": {
      "text/plain": [
       "<Figure size 640x480 with 1 Axes>"
      ]
     },
     "metadata": {},
     "output_type": "display_data"
    },
    {
     "data": {
      "text/plain": [
       "<Figure size 640x480 with 1 Axes>"
      ]
     },
     "metadata": {},
     "output_type": "display_data"
    }
   ],
   "source": [
    "import matplotlib.pyplot as plt\n",
    "import pandas as pd\n",
    "import random\n",
    "person = 100\n",
    "id_list = range(person)\n",
    "id_money_dict = {k: person for k in id_list}\n",
    "round_number = 17000\n",
    "for round in range(round_number):\n",
    "    for id in id_money_dict.keys():\n",
    "        id_money_dict[id] += -1\n",
    "        id_get = random.randint(0, person-1)\n",
    "        while id_get == id:\n",
    "            id_get = random.randint(0, person - 1)\n",
    "        id_money_dict[id_get] += 1\n",
    "se = pd.Series(id_money_dict)\n",
    "se.plot.bar()\n",
    "plt.show()\n",
    "plt.close()\n",
    "plt.show()\n",
    "plt.close()\n",
    "se.plot.hist(bins=100)\n",
    "plt.show()"
   ]
  },
  {
   "cell_type": "code",
   "execution_count": 2,
   "metadata": {},
   "outputs": [
    {
     "data": {
      "image/png": "[encoded data removed]",
      "text/plain": [
       "<Figure size 432x288 with 1 Axes>"
      ]
     },
     "metadata": {
      "needs_background": "light"
     },
     "output_type": "display_data"
    },
    {
     "data": {
      "image/png": "[encoded data removed]",
      "text/plain": [
       "<Figure size 432x288 with 1 Axes>"
      ]
     },
     "metadata": {
      "needs_background": "light"
     },
     "output_type": "display_data"
    }
   ],
   "source": [
    "import matplotlib.pyplot as plt\n",
    "import pandas as pd\n",
    "import random\n",
    "person = 100\n",
    "id_list = range(person)\n",
    "id_money_dict = {k: person for k in id_list}\n",
    "round_number = 17000\n",
    "for round in range(round_number):\n",
    "    for id in id_money_dict.keys():\n",
    "        id_money_dict[id] += -1\n",
    "        id_get = random.randint(0, person-1)\n",
    "        while id_get == id:\n",
    "            id_get = random.randint(0, person - 1)\n",
    "        id_money_dict[id_get] += 1\n",
    "se = pd.Series(id_money_dict)\n",
    "se.plot.bar()\n",
    "plt.show()\n",
    "plt.close()\n",
    "plt.show()\n",
    "plt.close()\n",
    "se.plot.hist(bins=100)\n",
    "plt.show()"
   ]
  },
  {
   "cell_type": "code",
   "execution_count": 3,
   "metadata": {},
   "outputs": [
    {
     "name": "stdout",
     "output_type": "stream",
     "text": [
      "190\n",
      "115\n",
      "0\n",
      "161\n",
      "15\n",
      "24\n",
      "14\n",
      "195\n",
      "6\n",
      "56\n",
      "44\n",
      "209\n",
      "9\n",
      "52\n",
      "267\n",
      "14\n",
      "5\n",
      "79\n",
      "123\n",
      "68\n",
      "28\n",
      "19\n",
      "108\n",
      "32\n",
      "90\n",
      "29\n",
      "126\n",
      "57\n",
      "27\n",
      "174\n",
      "36\n",
      "57\n",
      "197\n",
      "24\n",
      "167\n",
      "34\n",
      "46\n",
      "101\n",
      "141\n",
      "28\n",
      "45\n",
      "21\n",
      "188\n",
      "56\n",
      "172\n",
      "49\n",
      "97\n",
      "110\n",
      "217\n",
      "103\n",
      "76\n",
      "136\n",
      "56\n",
      "169\n",
      "79\n",
      "17\n",
      "62\n",
      "240\n",
      "19\n",
      "74\n",
      "73\n",
      "123\n",
      "124\n",
      "154\n",
      "45\n",
      "106\n",
      "173\n",
      "166\n",
      "10\n",
      "13\n",
      "252\n",
      "18\n",
      "26\n",
      "162\n",
      "27\n",
      "278\n",
      "148\n",
      "11\n",
      "55\n",
      "174\n",
      "110\n",
      "0\n",
      "63\n",
      "39\n",
      "113\n",
      "80\n",
      "39\n",
      "81\n",
      "186\n",
      "69\n",
      "191\n",
      "60\n",
      "12\n",
      "238\n",
      "32\n",
      "158\n",
      "270\n",
      "154\n",
      "31\n",
      "139\n",
      "160\n",
      "128\n",
      "0\n",
      "11\n",
      "77\n",
      "176\n",
      "80\n",
      "147\n",
      "10\n",
      "263\n",
      "37\n",
      "194\n",
      "194\n",
      "60\n",
      "89\n",
      "50\n",
      "145\n",
      "156\n",
      "146\n",
      "16\n",
      "108\n",
      "30\n",
      "106\n",
      "216\n",
      "95\n",
      "202\n",
      "184\n",
      "172\n",
      "5\n",
      "128\n",
      "81\n",
      "93\n",
      "32\n",
      "227\n",
      "20\n",
      "139\n",
      "18\n",
      "120\n",
      "282\n",
      "70\n",
      "99\n",
      "216\n",
      "87\n",
      "108\n",
      "6\n",
      "66\n",
      "101\n",
      "200\n",
      "128\n",
      "99\n",
      "2\n",
      "41\n",
      "22\n",
      "104\n",
      "106\n",
      "1\n",
      "150\n",
      "162\n",
      "165\n",
      "34\n",
      "290\n",
      "136\n",
      "139\n",
      "241\n",
      "269\n",
      "134\n",
      "50\n",
      "47\n",
      "102\n",
      "114\n",
      "142\n",
      "62\n",
      "9\n",
      "57\n",
      "55\n",
      "13\n",
      "39\n",
      "263\n",
      "136\n",
      "11\n",
      "83\n",
      "311\n",
      "211\n",
      "107\n",
      "100\n",
      "28\n",
      "78\n",
      "17\n",
      "85\n",
      "19\n",
      "5\n",
      "102\n",
      "234\n",
      "127\n",
      "123\n",
      "133\n",
      "47\n",
      "65\n",
      "114\n",
      "96\n",
      "44\n",
      "32\n",
      "221\n",
      "11\n",
      "125\n",
      "49\n",
      "188\n",
      "284\n",
      "160\n",
      "219\n",
      "128\n",
      "31\n",
      "97\n",
      "81\n",
      "122\n",
      "24\n",
      "29\n",
      "15\n",
      "42\n",
      "36\n",
      "10\n",
      "34\n",
      "89\n",
      "100\n",
      "100\n",
      "17\n",
      "33\n",
      "15\n",
      "34\n",
      "86\n",
      "89\n",
      "20\n",
      "78\n",
      "30\n",
      "159\n",
      "96\n",
      "141\n",
      "89\n",
      "149\n",
      "29\n",
      "54\n",
      "84\n",
      "20\n",
      "184\n",
      "47\n",
      "46\n",
      "143\n",
      "82\n",
      "46\n",
      "107\n",
      "20\n",
      "131\n",
      "99\n",
      "117\n",
      "38\n",
      "37\n",
      "153\n",
      "18\n",
      "42\n",
      "13\n",
      "17\n",
      "87\n",
      "136\n",
      "65\n",
      "223\n",
      "15\n",
      "15\n",
      "31\n",
      "118\n",
      "38\n",
      "49\n",
      "133\n",
      "15\n",
      "66\n",
      "31\n",
      "260\n",
      "155\n",
      "123\n",
      "58\n",
      "208\n",
      "182\n",
      "21\n",
      "136\n",
      "88\n",
      "7\n",
      "101\n",
      "7\n",
      "99\n",
      "42\n",
      "53\n",
      "53\n",
      "73\n",
      "127\n",
      "247\n",
      "130\n",
      "91\n",
      "221\n",
      "159\n",
      "151\n",
      "4\n",
      "22\n",
      "104\n",
      "65\n",
      "169\n",
      "108\n",
      "152\n",
      "221\n",
      "70\n",
      "80\n",
      "59\n",
      "67\n",
      "52\n",
      "40\n",
      "248\n",
      "24\n",
      "182\n",
      "195\n",
      "123\n",
      "32\n",
      "126\n",
      "46\n",
      "192\n",
      "134\n",
      "81\n",
      "230\n",
      "30\n",
      "57\n",
      "134\n",
      "49\n",
      "92\n",
      "118\n",
      "64\n",
      "57\n",
      "4\n",
      "117\n",
      "94\n",
      "172\n",
      "72\n",
      "99\n",
      "44\n",
      "120\n",
      "1\n",
      "277\n",
      "358\n",
      "84\n",
      "255\n",
      "149\n",
      "12\n",
      "67\n",
      "306\n",
      "167\n",
      "124\n",
      "126\n",
      "111\n",
      "163\n",
      "176\n",
      "18\n",
      "54\n",
      "94\n",
      "199\n",
      "111\n",
      "118\n",
      "13\n",
      "159\n",
      "45\n",
      "140\n",
      "104\n",
      "32\n",
      "199\n",
      "45\n",
      "5\n",
      "60\n",
      "114\n",
      "39\n",
      "79\n",
      "102\n",
      "266\n",
      "24\n",
      "63\n",
      "177\n",
      "225\n",
      "252\n",
      "12\n",
      "130\n",
      "42\n",
      "42\n",
      "172\n",
      "298\n",
      "68\n",
      "67\n",
      "166\n",
      "65\n",
      "78\n",
      "282\n",
      "171\n",
      "70\n",
      "188\n",
      "37\n",
      "148\n",
      "103\n",
      "69\n",
      "121\n",
      "4\n",
      "263\n",
      "244\n",
      "0\n",
      "177\n",
      "174\n",
      "104\n",
      "214\n",
      "1\n",
      "150\n",
      "56\n",
      "187\n",
      "82\n",
      "65\n",
      "128\n",
      "149\n",
      "44\n",
      "97\n",
      "29\n",
      "271\n",
      "42\n",
      "49\n",
      "62\n",
      "79\n",
      "42\n",
      "3\n",
      "15\n",
      "122\n",
      "51\n",
      "222\n",
      "84\n",
      "66\n",
      "8\n",
      "281\n",
      "26\n",
      "27\n",
      "30\n",
      "350\n",
      "182\n",
      "13\n",
      "67\n",
      "64\n",
      "104\n",
      "90\n",
      "73\n",
      "36\n",
      "42\n",
      "303\n",
      "20\n",
      "114\n",
      "67\n",
      "22\n",
      "110\n",
      "50\n",
      "109\n",
      "13\n",
      "167\n",
      "18\n",
      "162\n",
      "163\n",
      "102\n",
      "131\n",
      "120\n",
      "52\n",
      "99\n",
      "182\n",
      "116\n",
      "129\n",
      "32\n",
      "247\n",
      "28\n",
      "98\n",
      "63\n",
      "66\n",
      "18\n",
      "117\n",
      "53\n",
      "90\n",
      "178\n",
      "31\n",
      "1\n",
      "62\n",
      "141\n",
      "36\n",
      "185\n",
      "13\n",
      "114\n",
      "255\n",
      "118\n",
      "29\n",
      "54\n",
      "257\n",
      "18\n",
      "160\n",
      "41\n",
      "31\n",
      "4\n",
      "189\n"
     ]
    }
   ],
   "source": [
    "import random\n",
    "\n",
    "init_gold, person, minutes = 100, 500, 10000\n",
    "golds = [init_gold] * person\n",
    "\n",
    "for m in range(minutes):\n",
    "    for p in range(person):\n",
    "         if golds[p] > 0:\n",
    "            golds[p] -= 1\n",
    "            choice_person = random.randint(0, person - 1)\n",
    "            golds[choice_person] += 1\n",
    "\n",
    "for i in golds:\n",
    "    print(i)"
   ]
  },
  {
   "cell_type": "markdown",
   "metadata": {},
   "source": [
    "## 注意\n",
    "![](../Photo/56.png)\n",
    "![](../Photo/57.png)"
   ]
  },
  {
   "cell_type": "markdown",
   "metadata": {},
   "source": [
    "# Homework\n",
    "- 1 \n",
    "![](../Photo/58.png)"
   ]
  },
  {
   "cell_type": "markdown",
   "metadata": {},
   "source": [
    "- 2\n",
    "![](../Photo/59.png)"
   ]
  },
  {
   "cell_type": "markdown",
   "metadata": {},
   "source": [
    "- 3\n",
    "![](../Photo/58.png)"
   ]
  },
  {
   "cell_type": "markdown",
   "metadata": {},
   "source": [
    "- 4\n",
    "![](../Photo/60.png)"
   ]
  },
  {
   "cell_type": "markdown",
   "metadata": {},
   "source": [
    "- 5\n",
    "![](../Photo/61.png)"
   ]
  },
  {
   "cell_type": "markdown",
   "metadata": {},
   "source": [
    "- 6\n",
    "![](../Photo/62.png)"
   ]
  },
  {
   "cell_type": "markdown",
   "metadata": {},
   "source": [
    "- 7\n",
    "![](../Photo/63.png)"
   ]
  },
  {
   "cell_type": "markdown",
   "metadata": {},
   "source": [
    "- 8\n",
    "![](../Photo/64.png)"
   ]
  },
  {
   "cell_type": "markdown",
   "metadata": {},
   "source": [
    "- 9\n",
    "![](../Photo/65.png)"
   ]
  },
  {
   "cell_type": "markdown",
   "metadata": {},
   "source": [
    "- 10 \n",
    "![](../Photo/66.png)"
   ]
  },
  {
   "cell_type": "markdown",
   "metadata": {},
   "source": [
    "- 11\n",
    "![](../Photo/67.png)"
   ]
  },
  {
   "cell_type": "markdown",
   "metadata": {},
   "source": [
    "- 12\n",
    "![](../Photo/68.png)"
   ]
  },
  {
   "cell_type": "code",
   "execution_count": null,
   "metadata": {},
   "outputs": [],
   "source": []
  }
 ],
 "metadata": {
  "kernelspec": {
   "display_name": "Python 3",
   "language": "python",
   "name": "python3"
  },
  "language_info": {
   "codemirror_mode": {
    "name": "ipython",
    "version": 3
   },
   "file_extension": ".py",
   "mimetype": "text/x-python",
   "name": "python",
   "nbconvert_exporter": "python",
   "pygments_lexer": "ipython3",
   "version": "3.7.3"
  }
 },
 "nbformat": 4,
 "nbformat_minor": 2
}
